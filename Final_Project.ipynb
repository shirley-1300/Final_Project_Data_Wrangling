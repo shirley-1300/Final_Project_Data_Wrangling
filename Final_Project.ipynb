{
  "nbformat": 4,
  "nbformat_minor": 0,
  "metadata": {
    "colab": {
      "name": "Final_Project.ipynb",
      "provenance": [],
      "collapsed_sections": []
    },
    "kernelspec": {
      "name": "python3",
      "display_name": "Python 3"
    },
    "language_info": {
      "name": "python"
    }
  },
  "cells": [
    {
      "cell_type": "code",
      "execution_count": 138,
      "metadata": {
        "id": "S0GRgsIrlQG1"
      },
      "outputs": [],
      "source": [
        "import numpy as np\n",
        "import pandas as pd\n",
        "import seaborn as sns\n",
        "import matplotlib.pyplot as plt"
      ]
    },
    {
      "cell_type": "code",
      "source": [
        "url = 'https://raw.githubusercontent.com/SR1608/Datasets/main/covid-data.csv'"
      ],
      "metadata": {
        "id": "YOa5wgTMlQ6i"
      },
      "execution_count": 139,
      "outputs": []
    },
    {
      "cell_type": "markdown",
      "source": [
        "1. Import the dataset using Pandas from above mentioned url."
      ],
      "metadata": {
        "id": "Dj68mIncp9xw"
      }
    },
    {
      "cell_type": "code",
      "source": [
        "df = pd.read_csv(url)"
      ],
      "metadata": {
        "id": "J-1xvS3ylQ-T"
      },
      "execution_count": 140,
      "outputs": []
    },
    {
      "cell_type": "markdown",
      "source": [
        "2. High Level Data Understanding:\n",
        "\n",
        "a. Find no. of rows & columns in the dataset."
      ],
      "metadata": {
        "id": "YDh8qh0-qKlO"
      }
    },
    {
      "cell_type": "code",
      "source": [
        "a = df.shape[0]\n",
        "b = df.shape[1]\n",
        "print(f'The number of rows are {a} and columns are {b}')"
      ],
      "metadata": {
        "colab": {
          "base_uri": "https://localhost:8080/"
        },
        "id": "GmfQv5_elRBi",
        "outputId": "324fa062-2360-43e2-ac25-7a13d703e68a"
      },
      "execution_count": 141,
      "outputs": [
        {
          "output_type": "stream",
          "name": "stdout",
          "text": [
            "The number of rows are 57394 and columns are 49\n"
          ]
        }
      ]
    },
    {
      "cell_type": "markdown",
      "source": [
        "b. Data types of columns."
      ],
      "metadata": {
        "id": "XgwkpsfjqqQy"
      }
    },
    {
      "cell_type": "code",
      "source": [
        "df.dtypes"
      ],
      "metadata": {
        "colab": {
          "base_uri": "https://localhost:8080/"
        },
        "id": "emIIrfAolRE3",
        "outputId": "b806a4d8-0814-43f4-8636-db06476da054"
      },
      "execution_count": 142,
      "outputs": [
        {
          "output_type": "execute_result",
          "data": {
            "text/plain": [
              "iso_code                               object\n",
              "continent                              object\n",
              "location                               object\n",
              "date                                   object\n",
              "total_cases                           float64\n",
              "new_cases                             float64\n",
              "new_cases_smoothed                    float64\n",
              "total_deaths                          float64\n",
              "new_deaths                            float64\n",
              "new_deaths_smoothed                   float64\n",
              "total_cases_per_million               float64\n",
              "new_cases_per_million                 float64\n",
              "new_cases_smoothed_per_million        float64\n",
              "total_deaths_per_million              float64\n",
              "new_deaths_per_million                float64\n",
              "new_deaths_smoothed_per_million       float64\n",
              "reproduction_rate                     float64\n",
              "icu_patients                          float64\n",
              "icu_patients_per_million              float64\n",
              "hosp_patients                         float64\n",
              "hosp_patients_per_million             float64\n",
              "weekly_icu_admissions                 float64\n",
              "weekly_icu_admissions_per_million     float64\n",
              "weekly_hosp_admissions                float64\n",
              "weekly_hosp_admissions_per_million    float64\n",
              "total_tests                           float64\n",
              "new_tests                             float64\n",
              "total_tests_per_thousand              float64\n",
              "new_tests_per_thousand                float64\n",
              "new_tests_smoothed                    float64\n",
              "new_tests_smoothed_per_thousand       float64\n",
              "tests_per_case                        float64\n",
              "positive_rate                         float64\n",
              "stringency_index                      float64\n",
              "population                            float64\n",
              "population_density                    float64\n",
              "median_age                            float64\n",
              "aged_65_older                         float64\n",
              "aged_70_older                         float64\n",
              "gdp_per_capita                        float64\n",
              "extreme_poverty                       float64\n",
              "cardiovasc_death_rate                 float64\n",
              "diabetes_prevalence                   float64\n",
              "female_smokers                        float64\n",
              "male_smokers                          float64\n",
              "handwashing_facilities                float64\n",
              "hospital_beds_per_thousand            float64\n",
              "life_expectancy                       float64\n",
              "human_development_index               float64\n",
              "dtype: object"
            ]
          },
          "metadata": {},
          "execution_count": 142
        }
      ]
    },
    {
      "cell_type": "markdown",
      "source": [
        "c. Info & describe of data in dataframe."
      ],
      "metadata": {
        "id": "sCFzVBo3rLnD"
      }
    },
    {
      "cell_type": "code",
      "source": [
        "print(df.info())\n",
        "df.describe()"
      ],
      "metadata": {
        "colab": {
          "base_uri": "https://localhost:8080/",
          "height": 1000
        },
        "id": "xQUU5ob9lRkz",
        "outputId": "948a399e-b318-449f-917d-d6f2a2f69dd9"
      },
      "execution_count": 143,
      "outputs": [
        {
          "output_type": "stream",
          "name": "stdout",
          "text": [
            "<class 'pandas.core.frame.DataFrame'>\n",
            "RangeIndex: 57394 entries, 0 to 57393\n",
            "Data columns (total 49 columns):\n",
            " #   Column                              Non-Null Count  Dtype  \n",
            "---  ------                              --------------  -----  \n",
            " 0   iso_code                            57071 non-null  object \n",
            " 1   continent                           56748 non-null  object \n",
            " 2   location                            57394 non-null  object \n",
            " 3   date                                57394 non-null  object \n",
            " 4   total_cases                         53758 non-null  float64\n",
            " 5   new_cases                           56465 non-null  float64\n",
            " 6   new_cases_smoothed                  55652 non-null  float64\n",
            " 7   total_deaths                        44368 non-null  float64\n",
            " 8   new_deaths                          56465 non-null  float64\n",
            " 9   new_deaths_smoothed                 55652 non-null  float64\n",
            " 10  total_cases_per_million             53471 non-null  float64\n",
            " 11  new_cases_per_million               56401 non-null  float64\n",
            " 12  new_cases_smoothed_per_million      55587 non-null  float64\n",
            " 13  total_deaths_per_million            44096 non-null  float64\n",
            " 14  new_deaths_per_million              56401 non-null  float64\n",
            " 15  new_deaths_smoothed_per_million     55587 non-null  float64\n",
            " 16  reproduction_rate                   37696 non-null  float64\n",
            " 17  icu_patients                        4490 non-null   float64\n",
            " 18  icu_patients_per_million            4490 non-null   float64\n",
            " 19  hosp_patients                       5005 non-null   float64\n",
            " 20  hosp_patients_per_million           5005 non-null   float64\n",
            " 21  weekly_icu_admissions               357 non-null    float64\n",
            " 22  weekly_icu_admissions_per_million   357 non-null    float64\n",
            " 23  weekly_hosp_admissions              645 non-null    float64\n",
            " 24  weekly_hosp_admissions_per_million  645 non-null    float64\n",
            " 25  total_tests                         22017 non-null  float64\n",
            " 26  new_tests                           21787 non-null  float64\n",
            " 27  total_tests_per_thousand            22017 non-null  float64\n",
            " 28  new_tests_per_thousand              21787 non-null  float64\n",
            " 29  new_tests_smoothed                  24612 non-null  float64\n",
            " 30  new_tests_smoothed_per_thousand     24612 non-null  float64\n",
            " 31  tests_per_case                      22802 non-null  float64\n",
            " 32  positive_rate                       23211 non-null  float64\n",
            " 33  stringency_index                    47847 non-null  float64\n",
            " 34  population                          57071 non-null  float64\n",
            " 35  population_density                  54371 non-null  float64\n",
            " 36  median_age                          51034 non-null  float64\n",
            " 37  aged_65_older                       50265 non-null  float64\n",
            " 38  aged_70_older                       50768 non-null  float64\n",
            " 39  gdp_per_capita                      50367 non-null  float64\n",
            " 40  extreme_poverty                     33571 non-null  float64\n",
            " 41  cardiovasc_death_rate               51013 non-null  float64\n",
            " 42  diabetes_prevalence                 52881 non-null  float64\n",
            " 43  female_smokers                      39669 non-null  float64\n",
            " 44  male_smokers                        39156 non-null  float64\n",
            " 45  handwashing_facilities              24176 non-null  float64\n",
            " 46  hospital_beds_per_thousand          45936 non-null  float64\n",
            " 47  life_expectancy                     56336 non-null  float64\n",
            " 48  human_development_index             49247 non-null  float64\n",
            "dtypes: float64(45), object(4)\n",
            "memory usage: 21.5+ MB\n",
            "None\n"
          ]
        },
        {
          "output_type": "execute_result",
          "data": {
            "text/plain": [
              "        total_cases      new_cases  new_cases_smoothed  total_deaths  \\\n",
              "count  5.375800e+04   56465.000000        55652.000000  4.436800e+04   \n",
              "mean   1.677974e+05    1953.576941         1920.431953  6.858639e+03   \n",
              "std    1.693038e+06   18269.650340        17777.391785  5.578081e+04   \n",
              "min    1.000000e+00   -8261.000000         -552.000000  1.000000e+00   \n",
              "25%    1.800000e+02       0.000000            0.857000  1.300000e+01   \n",
              "50%    2.070000e+03      14.000000           19.429000  8.400000e+01   \n",
              "75%    2.235675e+04     235.000000          245.286000  7.270000e+02   \n",
              "max    5.515465e+07  646281.000000       584981.857000  1.328537e+06   \n",
              "\n",
              "         new_deaths  new_deaths_smoothed  total_cases_per_million  \\\n",
              "count  56465.000000         55652.000000             53471.000000   \n",
              "mean      47.054317            46.835439              3139.099982   \n",
              "std      390.853776           378.272794              6183.455260   \n",
              "min    -1918.000000          -232.143000                 0.001000   \n",
              "25%        0.000000             0.000000                90.033000   \n",
              "50%        0.000000             0.286000               593.663000   \n",
              "75%        4.000000             4.000000              3487.050000   \n",
              "max    10600.000000          9027.714000             76541.772000   \n",
              "\n",
              "       new_cases_per_million  new_cases_smoothed_per_million  \\\n",
              "count           56401.000000                    55587.000000   \n",
              "mean               39.344804                       38.403211   \n",
              "std               133.985155                      101.649441   \n",
              "min             -2212.545000                     -269.978000   \n",
              "25%                 0.000000                        0.260000   \n",
              "50%                 2.194000                        3.863000   \n",
              "75%                25.941000                       29.678500   \n",
              "max              8652.658000                     2472.188000   \n",
              "\n",
              "       total_deaths_per_million  ...  gdp_per_capita  extreme_poverty  \\\n",
              "count              44096.000000  ...    50367.000000     33571.000000   \n",
              "mean                  95.335293  ...    20620.172071        12.435453   \n",
              "std                  180.721699  ...    20310.999832        19.427924   \n",
              "min                    0.000000  ...      661.240000         0.100000   \n",
              "25%                    3.977750  ...     5321.444000         0.500000   \n",
              "50%                   20.383000  ...    13913.839000         2.000000   \n",
              "75%                   90.571250  ...    31400.840000        18.100000   \n",
              "max                 1248.014000  ...   116935.600000        77.600000   \n",
              "\n",
              "       cardiovasc_death_rate  diabetes_prevalence  female_smokers  \\\n",
              "count           51013.000000         52881.000000    39669.000000   \n",
              "mean              252.646642             8.070269       10.741569   \n",
              "std               117.522344             4.189605       10.470743   \n",
              "min                79.370000             0.990000        0.100000   \n",
              "25%               156.139000             5.310000        1.900000   \n",
              "50%               238.339000             7.110000        6.400000   \n",
              "75%               318.991000            10.390000       19.600000   \n",
              "max               724.417000            30.530000       44.000000   \n",
              "\n",
              "       male_smokers  handwashing_facilities  hospital_beds_per_thousand  \\\n",
              "count  39156.000000            24176.000000                45936.000000   \n",
              "mean      32.642686               52.089636                    3.089724   \n",
              "std       13.453566               31.645306                    2.513193   \n",
              "min        7.700000                1.188000                    0.100000   \n",
              "25%       21.400000               21.222000                    1.300000   \n",
              "50%       31.400000               52.232000                    2.500000   \n",
              "75%       40.900000               83.741000                    4.200000   \n",
              "max       78.100000               98.999000                   13.800000   \n",
              "\n",
              "       life_expectancy  human_development_index  \n",
              "count     56336.000000             49247.000000  \n",
              "mean         73.937780                 0.722223  \n",
              "std           7.397016                 0.153261  \n",
              "min          53.280000                 0.354000  \n",
              "25%          69.870000                 0.601000  \n",
              "50%          75.345000                 0.752000  \n",
              "75%          79.380000                 0.847000  \n",
              "max          86.750000                 0.953000  \n",
              "\n",
              "[8 rows x 45 columns]"
            ],
            "text/html": [
              "\n",
              "  <div id=\"df-9e4956b3-d66d-4ca8-aea8-c3e9f6a9349e\">\n",
              "    <div class=\"colab-df-container\">\n",
              "      <div>\n",
              "<style scoped>\n",
              "    .dataframe tbody tr th:only-of-type {\n",
              "        vertical-align: middle;\n",
              "    }\n",
              "\n",
              "    .dataframe tbody tr th {\n",
              "        vertical-align: top;\n",
              "    }\n",
              "\n",
              "    .dataframe thead th {\n",
              "        text-align: right;\n",
              "    }\n",
              "</style>\n",
              "<table border=\"1\" class=\"dataframe\">\n",
              "  <thead>\n",
              "    <tr style=\"text-align: right;\">\n",
              "      <th></th>\n",
              "      <th>total_cases</th>\n",
              "      <th>new_cases</th>\n",
              "      <th>new_cases_smoothed</th>\n",
              "      <th>total_deaths</th>\n",
              "      <th>new_deaths</th>\n",
              "      <th>new_deaths_smoothed</th>\n",
              "      <th>total_cases_per_million</th>\n",
              "      <th>new_cases_per_million</th>\n",
              "      <th>new_cases_smoothed_per_million</th>\n",
              "      <th>total_deaths_per_million</th>\n",
              "      <th>...</th>\n",
              "      <th>gdp_per_capita</th>\n",
              "      <th>extreme_poverty</th>\n",
              "      <th>cardiovasc_death_rate</th>\n",
              "      <th>diabetes_prevalence</th>\n",
              "      <th>female_smokers</th>\n",
              "      <th>male_smokers</th>\n",
              "      <th>handwashing_facilities</th>\n",
              "      <th>hospital_beds_per_thousand</th>\n",
              "      <th>life_expectancy</th>\n",
              "      <th>human_development_index</th>\n",
              "    </tr>\n",
              "  </thead>\n",
              "  <tbody>\n",
              "    <tr>\n",
              "      <th>count</th>\n",
              "      <td>5.375800e+04</td>\n",
              "      <td>56465.000000</td>\n",
              "      <td>55652.000000</td>\n",
              "      <td>4.436800e+04</td>\n",
              "      <td>56465.000000</td>\n",
              "      <td>55652.000000</td>\n",
              "      <td>53471.000000</td>\n",
              "      <td>56401.000000</td>\n",
              "      <td>55587.000000</td>\n",
              "      <td>44096.000000</td>\n",
              "      <td>...</td>\n",
              "      <td>50367.000000</td>\n",
              "      <td>33571.000000</td>\n",
              "      <td>51013.000000</td>\n",
              "      <td>52881.000000</td>\n",
              "      <td>39669.000000</td>\n",
              "      <td>39156.000000</td>\n",
              "      <td>24176.000000</td>\n",
              "      <td>45936.000000</td>\n",
              "      <td>56336.000000</td>\n",
              "      <td>49247.000000</td>\n",
              "    </tr>\n",
              "    <tr>\n",
              "      <th>mean</th>\n",
              "      <td>1.677974e+05</td>\n",
              "      <td>1953.576941</td>\n",
              "      <td>1920.431953</td>\n",
              "      <td>6.858639e+03</td>\n",
              "      <td>47.054317</td>\n",
              "      <td>46.835439</td>\n",
              "      <td>3139.099982</td>\n",
              "      <td>39.344804</td>\n",
              "      <td>38.403211</td>\n",
              "      <td>95.335293</td>\n",
              "      <td>...</td>\n",
              "      <td>20620.172071</td>\n",
              "      <td>12.435453</td>\n",
              "      <td>252.646642</td>\n",
              "      <td>8.070269</td>\n",
              "      <td>10.741569</td>\n",
              "      <td>32.642686</td>\n",
              "      <td>52.089636</td>\n",
              "      <td>3.089724</td>\n",
              "      <td>73.937780</td>\n",
              "      <td>0.722223</td>\n",
              "    </tr>\n",
              "    <tr>\n",
              "      <th>std</th>\n",
              "      <td>1.693038e+06</td>\n",
              "      <td>18269.650340</td>\n",
              "      <td>17777.391785</td>\n",
              "      <td>5.578081e+04</td>\n",
              "      <td>390.853776</td>\n",
              "      <td>378.272794</td>\n",
              "      <td>6183.455260</td>\n",
              "      <td>133.985155</td>\n",
              "      <td>101.649441</td>\n",
              "      <td>180.721699</td>\n",
              "      <td>...</td>\n",
              "      <td>20310.999832</td>\n",
              "      <td>19.427924</td>\n",
              "      <td>117.522344</td>\n",
              "      <td>4.189605</td>\n",
              "      <td>10.470743</td>\n",
              "      <td>13.453566</td>\n",
              "      <td>31.645306</td>\n",
              "      <td>2.513193</td>\n",
              "      <td>7.397016</td>\n",
              "      <td>0.153261</td>\n",
              "    </tr>\n",
              "    <tr>\n",
              "      <th>min</th>\n",
              "      <td>1.000000e+00</td>\n",
              "      <td>-8261.000000</td>\n",
              "      <td>-552.000000</td>\n",
              "      <td>1.000000e+00</td>\n",
              "      <td>-1918.000000</td>\n",
              "      <td>-232.143000</td>\n",
              "      <td>0.001000</td>\n",
              "      <td>-2212.545000</td>\n",
              "      <td>-269.978000</td>\n",
              "      <td>0.000000</td>\n",
              "      <td>...</td>\n",
              "      <td>661.240000</td>\n",
              "      <td>0.100000</td>\n",
              "      <td>79.370000</td>\n",
              "      <td>0.990000</td>\n",
              "      <td>0.100000</td>\n",
              "      <td>7.700000</td>\n",
              "      <td>1.188000</td>\n",
              "      <td>0.100000</td>\n",
              "      <td>53.280000</td>\n",
              "      <td>0.354000</td>\n",
              "    </tr>\n",
              "    <tr>\n",
              "      <th>25%</th>\n",
              "      <td>1.800000e+02</td>\n",
              "      <td>0.000000</td>\n",
              "      <td>0.857000</td>\n",
              "      <td>1.300000e+01</td>\n",
              "      <td>0.000000</td>\n",
              "      <td>0.000000</td>\n",
              "      <td>90.033000</td>\n",
              "      <td>0.000000</td>\n",
              "      <td>0.260000</td>\n",
              "      <td>3.977750</td>\n",
              "      <td>...</td>\n",
              "      <td>5321.444000</td>\n",
              "      <td>0.500000</td>\n",
              "      <td>156.139000</td>\n",
              "      <td>5.310000</td>\n",
              "      <td>1.900000</td>\n",
              "      <td>21.400000</td>\n",
              "      <td>21.222000</td>\n",
              "      <td>1.300000</td>\n",
              "      <td>69.870000</td>\n",
              "      <td>0.601000</td>\n",
              "    </tr>\n",
              "    <tr>\n",
              "      <th>50%</th>\n",
              "      <td>2.070000e+03</td>\n",
              "      <td>14.000000</td>\n",
              "      <td>19.429000</td>\n",
              "      <td>8.400000e+01</td>\n",
              "      <td>0.000000</td>\n",
              "      <td>0.286000</td>\n",
              "      <td>593.663000</td>\n",
              "      <td>2.194000</td>\n",
              "      <td>3.863000</td>\n",
              "      <td>20.383000</td>\n",
              "      <td>...</td>\n",
              "      <td>13913.839000</td>\n",
              "      <td>2.000000</td>\n",
              "      <td>238.339000</td>\n",
              "      <td>7.110000</td>\n",
              "      <td>6.400000</td>\n",
              "      <td>31.400000</td>\n",
              "      <td>52.232000</td>\n",
              "      <td>2.500000</td>\n",
              "      <td>75.345000</td>\n",
              "      <td>0.752000</td>\n",
              "    </tr>\n",
              "    <tr>\n",
              "      <th>75%</th>\n",
              "      <td>2.235675e+04</td>\n",
              "      <td>235.000000</td>\n",
              "      <td>245.286000</td>\n",
              "      <td>7.270000e+02</td>\n",
              "      <td>4.000000</td>\n",
              "      <td>4.000000</td>\n",
              "      <td>3487.050000</td>\n",
              "      <td>25.941000</td>\n",
              "      <td>29.678500</td>\n",
              "      <td>90.571250</td>\n",
              "      <td>...</td>\n",
              "      <td>31400.840000</td>\n",
              "      <td>18.100000</td>\n",
              "      <td>318.991000</td>\n",
              "      <td>10.390000</td>\n",
              "      <td>19.600000</td>\n",
              "      <td>40.900000</td>\n",
              "      <td>83.741000</td>\n",
              "      <td>4.200000</td>\n",
              "      <td>79.380000</td>\n",
              "      <td>0.847000</td>\n",
              "    </tr>\n",
              "    <tr>\n",
              "      <th>max</th>\n",
              "      <td>5.515465e+07</td>\n",
              "      <td>646281.000000</td>\n",
              "      <td>584981.857000</td>\n",
              "      <td>1.328537e+06</td>\n",
              "      <td>10600.000000</td>\n",
              "      <td>9027.714000</td>\n",
              "      <td>76541.772000</td>\n",
              "      <td>8652.658000</td>\n",
              "      <td>2472.188000</td>\n",
              "      <td>1248.014000</td>\n",
              "      <td>...</td>\n",
              "      <td>116935.600000</td>\n",
              "      <td>77.600000</td>\n",
              "      <td>724.417000</td>\n",
              "      <td>30.530000</td>\n",
              "      <td>44.000000</td>\n",
              "      <td>78.100000</td>\n",
              "      <td>98.999000</td>\n",
              "      <td>13.800000</td>\n",
              "      <td>86.750000</td>\n",
              "      <td>0.953000</td>\n",
              "    </tr>\n",
              "  </tbody>\n",
              "</table>\n",
              "<p>8 rows × 45 columns</p>\n",
              "</div>\n",
              "      <button class=\"colab-df-convert\" onclick=\"convertToInteractive('df-9e4956b3-d66d-4ca8-aea8-c3e9f6a9349e')\"\n",
              "              title=\"Convert this dataframe to an interactive table.\"\n",
              "              style=\"display:none;\">\n",
              "        \n",
              "  <svg xmlns=\"http://www.w3.org/2000/svg\" height=\"24px\"viewBox=\"0 0 24 24\"\n",
              "       width=\"24px\">\n",
              "    <path d=\"M0 0h24v24H0V0z\" fill=\"none\"/>\n",
              "    <path d=\"M18.56 5.44l.94 2.06.94-2.06 2.06-.94-2.06-.94-.94-2.06-.94 2.06-2.06.94zm-11 1L8.5 8.5l.94-2.06 2.06-.94-2.06-.94L8.5 2.5l-.94 2.06-2.06.94zm10 10l.94 2.06.94-2.06 2.06-.94-2.06-.94-.94-2.06-.94 2.06-2.06.94z\"/><path d=\"M17.41 7.96l-1.37-1.37c-.4-.4-.92-.59-1.43-.59-.52 0-1.04.2-1.43.59L10.3 9.45l-7.72 7.72c-.78.78-.78 2.05 0 2.83L4 21.41c.39.39.9.59 1.41.59.51 0 1.02-.2 1.41-.59l7.78-7.78 2.81-2.81c.8-.78.8-2.07 0-2.86zM5.41 20L4 18.59l7.72-7.72 1.47 1.35L5.41 20z\"/>\n",
              "  </svg>\n",
              "      </button>\n",
              "      \n",
              "  <style>\n",
              "    .colab-df-container {\n",
              "      display:flex;\n",
              "      flex-wrap:wrap;\n",
              "      gap: 12px;\n",
              "    }\n",
              "\n",
              "    .colab-df-convert {\n",
              "      background-color: #E8F0FE;\n",
              "      border: none;\n",
              "      border-radius: 50%;\n",
              "      cursor: pointer;\n",
              "      display: none;\n",
              "      fill: #1967D2;\n",
              "      height: 32px;\n",
              "      padding: 0 0 0 0;\n",
              "      width: 32px;\n",
              "    }\n",
              "\n",
              "    .colab-df-convert:hover {\n",
              "      background-color: #E2EBFA;\n",
              "      box-shadow: 0px 1px 2px rgba(60, 64, 67, 0.3), 0px 1px 3px 1px rgba(60, 64, 67, 0.15);\n",
              "      fill: #174EA6;\n",
              "    }\n",
              "\n",
              "    [theme=dark] .colab-df-convert {\n",
              "      background-color: #3B4455;\n",
              "      fill: #D2E3FC;\n",
              "    }\n",
              "\n",
              "    [theme=dark] .colab-df-convert:hover {\n",
              "      background-color: #434B5C;\n",
              "      box-shadow: 0px 1px 3px 1px rgba(0, 0, 0, 0.15);\n",
              "      filter: drop-shadow(0px 1px 2px rgba(0, 0, 0, 0.3));\n",
              "      fill: #FFFFFF;\n",
              "    }\n",
              "  </style>\n",
              "\n",
              "      <script>\n",
              "        const buttonEl =\n",
              "          document.querySelector('#df-9e4956b3-d66d-4ca8-aea8-c3e9f6a9349e button.colab-df-convert');\n",
              "        buttonEl.style.display =\n",
              "          google.colab.kernel.accessAllowed ? 'block' : 'none';\n",
              "\n",
              "        async function convertToInteractive(key) {\n",
              "          const element = document.querySelector('#df-9e4956b3-d66d-4ca8-aea8-c3e9f6a9349e');\n",
              "          const dataTable =\n",
              "            await google.colab.kernel.invokeFunction('convertToInteractive',\n",
              "                                                     [key], {});\n",
              "          if (!dataTable) return;\n",
              "\n",
              "          const docLinkHtml = 'Like what you see? Visit the ' +\n",
              "            '<a target=\"_blank\" href=https://colab.research.google.com/notebooks/data_table.ipynb>data table notebook</a>'\n",
              "            + ' to learn more about interactive tables.';\n",
              "          element.innerHTML = '';\n",
              "          dataTable['output_type'] = 'display_data';\n",
              "          await google.colab.output.renderOutput(dataTable, element);\n",
              "          const docLink = document.createElement('div');\n",
              "          docLink.innerHTML = docLinkHtml;\n",
              "          element.appendChild(docLink);\n",
              "        }\n",
              "      </script>\n",
              "    </div>\n",
              "  </div>\n",
              "  "
            ]
          },
          "metadata": {},
          "execution_count": 143
        }
      ]
    },
    {
      "cell_type": "markdown",
      "source": [
        "3. Low Level Data Understanding :\n",
        "\n",
        "a. Find count of unique values in location column."
      ],
      "metadata": {
        "id": "a1bUsBWTrmdX"
      }
    },
    {
      "cell_type": "code",
      "source": [
        "u = df['location'].nunique()\n",
        "print(f'There are {u} unique values in location column.')"
      ],
      "metadata": {
        "colab": {
          "base_uri": "https://localhost:8080/"
        },
        "id": "ueUr_hPulRoq",
        "outputId": "59051549-7897-40b4-c994-27c89c907936"
      },
      "execution_count": 144,
      "outputs": [
        {
          "output_type": "stream",
          "name": "stdout",
          "text": [
            "There are 216 unique values in location column.\n"
          ]
        }
      ]
    },
    {
      "cell_type": "markdown",
      "source": [
        "b. Find which continent has maximum frequency using values\n",
        "counts."
      ],
      "metadata": {
        "id": "ZKoHj2O5rylG"
      }
    },
    {
      "cell_type": "code",
      "source": [
        "con = df['continent'].value_counts().idxmax()\n",
        "maxim = df['continent'].value_counts().max()\n",
        "print(f'{con} is the continent with a maximum frequency of {maxim}.')"
      ],
      "metadata": {
        "colab": {
          "base_uri": "https://localhost:8080/"
        },
        "id": "ufnia4fusAk6",
        "outputId": "07c9ff00-51d1-4a30-9f7f-dd229c6a5e9b"
      },
      "execution_count": 145,
      "outputs": [
        {
          "output_type": "stream",
          "name": "stdout",
          "text": [
            "Europe is the continent with a maximum frequency of 14828.\n"
          ]
        }
      ]
    },
    {
      "cell_type": "markdown",
      "source": [
        "c. Find maximum & mean value in 'total_cases'."
      ],
      "metadata": {
        "id": "3IvgwVScvUw9"
      }
    },
    {
      "cell_type": "code",
      "source": [
        "print(\"The maximum value in total_cases is:\",df['total_cases'].max())\n",
        "print(\"The mean value in total_cases is:\",df['total_cases'].mean())"
      ],
      "metadata": {
        "colab": {
          "base_uri": "https://localhost:8080/"
        },
        "id": "1qCjwTDZsAhz",
        "outputId": "79106005-7335-4551-c307-6e510f326d38"
      },
      "execution_count": 146,
      "outputs": [
        {
          "output_type": "stream",
          "name": "stdout",
          "text": [
            "The maximum value in total_cases is: 55154651.0\n",
            "The mean value in total_cases is: 167797.3688753302\n"
          ]
        }
      ]
    },
    {
      "cell_type": "markdown",
      "source": [
        "d. Find 25%,50% & 75% quartile value in 'total_deaths'."
      ],
      "metadata": {
        "id": "9xi5EghIwgnf"
      }
    },
    {
      "cell_type": "code",
      "source": [
        "print(\"The quantile values in 'total_deaths are:\")\n",
        "print(\"25% :\",df['total_deaths'].quantile(0.25))\n",
        "print(\"50% :\",df['total_deaths'].quantile(0.50))\n",
        "print(\"75% :\",df['total_deaths'].quantile(0.75))"
      ],
      "metadata": {
        "colab": {
          "base_uri": "https://localhost:8080/"
        },
        "id": "-Mi8N0kluCWq",
        "outputId": "2c4370d7-790d-4c56-cc35-72d785bccb08"
      },
      "execution_count": 147,
      "outputs": [
        {
          "output_type": "stream",
          "name": "stdout",
          "text": [
            "The quantile values in 'total_deaths are:\n",
            "25% : 13.0\n",
            "50% : 84.0\n",
            "75% : 727.0\n"
          ]
        }
      ]
    },
    {
      "cell_type": "markdown",
      "source": [
        "e. Find which continent has maximum 'human_development_index'."
      ],
      "metadata": {
        "id": "4bwuj3izyAAk"
      }
    },
    {
      "cell_type": "code",
      "source": [
        "df.iloc[df[\"human_development_index\"].idxmax()][\"continent\"]"
      ],
      "metadata": {
        "colab": {
          "base_uri": "https://localhost:8080/",
          "height": 35
        },
        "id": "DHktKfn-0JrE",
        "outputId": "e7fef4b8-92dd-4b2f-c2a8-83cf8c99fdf9"
      },
      "execution_count": 148,
      "outputs": [
        {
          "output_type": "execute_result",
          "data": {
            "text/plain": [
              "'Europe'"
            ],
            "application/vnd.google.colaboratory.intrinsic+json": {
              "type": "string"
            }
          },
          "metadata": {},
          "execution_count": 148
        }
      ]
    },
    {
      "cell_type": "markdown",
      "source": [
        "f. Find which continent has minimum 'gdp_per_capita'."
      ],
      "metadata": {
        "id": "zZErsRCQ0XlM"
      }
    },
    {
      "cell_type": "code",
      "source": [
        "df.iloc[df[\"gdp_per_capita\"].idxmin()][\"continent\"]"
      ],
      "metadata": {
        "id": "nTOq2uTq0YmO",
        "colab": {
          "base_uri": "https://localhost:8080/",
          "height": 35
        },
        "outputId": "8f6a1633-c17c-4c3b-da3a-5bdabbaefb92"
      },
      "execution_count": 149,
      "outputs": [
        {
          "output_type": "execute_result",
          "data": {
            "text/plain": [
              "'Africa'"
            ],
            "application/vnd.google.colaboratory.intrinsic+json": {
              "type": "string"
            }
          },
          "metadata": {},
          "execution_count": 149
        }
      ]
    },
    {
      "cell_type": "markdown",
      "source": [
        "4. Filter the dataframe with only this columns ['continent','location','date','total_cases','total_deaths','gdp_per_capita','human_development_index'] and update the data frame."
      ],
      "metadata": {
        "id": "kYLhO5iG0KD6"
      }
    },
    {
      "cell_type": "code",
      "source": [
        "df.drop(df.columns.difference(['continent','location','date','total_cases','total_deaths','gdp_per_capita','human_development_index']), 1, inplace=True)\n",
        "print('Succesfully filtered and updated the dataframe')\n",
        "df.head()"
      ],
      "metadata": {
        "colab": {
          "base_uri": "https://localhost:8080/",
          "height": 278
        },
        "id": "AEacn5IGyGPk",
        "outputId": "372420e8-3aa7-4481-ef83-1f0a68aaee91"
      },
      "execution_count": 150,
      "outputs": [
        {
          "output_type": "stream",
          "name": "stdout",
          "text": [
            "Succesfully filtered and updated the dataframe\n"
          ]
        },
        {
          "output_type": "stream",
          "name": "stderr",
          "text": [
            "/usr/local/lib/python3.7/dist-packages/ipykernel_launcher.py:1: FutureWarning: In a future version of pandas all arguments of DataFrame.drop except for the argument 'labels' will be keyword-only\n",
            "  \"\"\"Entry point for launching an IPython kernel.\n"
          ]
        },
        {
          "output_type": "execute_result",
          "data": {
            "text/plain": [
              "  continent     location      date  total_cases  total_deaths  gdp_per_capita  \\\n",
              "0      Asia  Afghanistan  31/12/19          NaN           NaN        1803.987   \n",
              "1      Asia  Afghanistan  01/01/20          NaN           NaN        1803.987   \n",
              "2      Asia  Afghanistan  02/01/20          NaN           NaN        1803.987   \n",
              "3      Asia  Afghanistan  03/01/20          NaN           NaN        1803.987   \n",
              "4      Asia  Afghanistan  04/01/20          NaN           NaN        1803.987   \n",
              "\n",
              "   human_development_index  \n",
              "0                    0.498  \n",
              "1                    0.498  \n",
              "2                    0.498  \n",
              "3                    0.498  \n",
              "4                    0.498  "
            ],
            "text/html": [
              "\n",
              "  <div id=\"df-d14c4a7f-d7f9-4001-9857-c4423c135daf\">\n",
              "    <div class=\"colab-df-container\">\n",
              "      <div>\n",
              "<style scoped>\n",
              "    .dataframe tbody tr th:only-of-type {\n",
              "        vertical-align: middle;\n",
              "    }\n",
              "\n",
              "    .dataframe tbody tr th {\n",
              "        vertical-align: top;\n",
              "    }\n",
              "\n",
              "    .dataframe thead th {\n",
              "        text-align: right;\n",
              "    }\n",
              "</style>\n",
              "<table border=\"1\" class=\"dataframe\">\n",
              "  <thead>\n",
              "    <tr style=\"text-align: right;\">\n",
              "      <th></th>\n",
              "      <th>continent</th>\n",
              "      <th>location</th>\n",
              "      <th>date</th>\n",
              "      <th>total_cases</th>\n",
              "      <th>total_deaths</th>\n",
              "      <th>gdp_per_capita</th>\n",
              "      <th>human_development_index</th>\n",
              "    </tr>\n",
              "  </thead>\n",
              "  <tbody>\n",
              "    <tr>\n",
              "      <th>0</th>\n",
              "      <td>Asia</td>\n",
              "      <td>Afghanistan</td>\n",
              "      <td>31/12/19</td>\n",
              "      <td>NaN</td>\n",
              "      <td>NaN</td>\n",
              "      <td>1803.987</td>\n",
              "      <td>0.498</td>\n",
              "    </tr>\n",
              "    <tr>\n",
              "      <th>1</th>\n",
              "      <td>Asia</td>\n",
              "      <td>Afghanistan</td>\n",
              "      <td>01/01/20</td>\n",
              "      <td>NaN</td>\n",
              "      <td>NaN</td>\n",
              "      <td>1803.987</td>\n",
              "      <td>0.498</td>\n",
              "    </tr>\n",
              "    <tr>\n",
              "      <th>2</th>\n",
              "      <td>Asia</td>\n",
              "      <td>Afghanistan</td>\n",
              "      <td>02/01/20</td>\n",
              "      <td>NaN</td>\n",
              "      <td>NaN</td>\n",
              "      <td>1803.987</td>\n",
              "      <td>0.498</td>\n",
              "    </tr>\n",
              "    <tr>\n",
              "      <th>3</th>\n",
              "      <td>Asia</td>\n",
              "      <td>Afghanistan</td>\n",
              "      <td>03/01/20</td>\n",
              "      <td>NaN</td>\n",
              "      <td>NaN</td>\n",
              "      <td>1803.987</td>\n",
              "      <td>0.498</td>\n",
              "    </tr>\n",
              "    <tr>\n",
              "      <th>4</th>\n",
              "      <td>Asia</td>\n",
              "      <td>Afghanistan</td>\n",
              "      <td>04/01/20</td>\n",
              "      <td>NaN</td>\n",
              "      <td>NaN</td>\n",
              "      <td>1803.987</td>\n",
              "      <td>0.498</td>\n",
              "    </tr>\n",
              "  </tbody>\n",
              "</table>\n",
              "</div>\n",
              "      <button class=\"colab-df-convert\" onclick=\"convertToInteractive('df-d14c4a7f-d7f9-4001-9857-c4423c135daf')\"\n",
              "              title=\"Convert this dataframe to an interactive table.\"\n",
              "              style=\"display:none;\">\n",
              "        \n",
              "  <svg xmlns=\"http://www.w3.org/2000/svg\" height=\"24px\"viewBox=\"0 0 24 24\"\n",
              "       width=\"24px\">\n",
              "    <path d=\"M0 0h24v24H0V0z\" fill=\"none\"/>\n",
              "    <path d=\"M18.56 5.44l.94 2.06.94-2.06 2.06-.94-2.06-.94-.94-2.06-.94 2.06-2.06.94zm-11 1L8.5 8.5l.94-2.06 2.06-.94-2.06-.94L8.5 2.5l-.94 2.06-2.06.94zm10 10l.94 2.06.94-2.06 2.06-.94-2.06-.94-.94-2.06-.94 2.06-2.06.94z\"/><path d=\"M17.41 7.96l-1.37-1.37c-.4-.4-.92-.59-1.43-.59-.52 0-1.04.2-1.43.59L10.3 9.45l-7.72 7.72c-.78.78-.78 2.05 0 2.83L4 21.41c.39.39.9.59 1.41.59.51 0 1.02-.2 1.41-.59l7.78-7.78 2.81-2.81c.8-.78.8-2.07 0-2.86zM5.41 20L4 18.59l7.72-7.72 1.47 1.35L5.41 20z\"/>\n",
              "  </svg>\n",
              "      </button>\n",
              "      \n",
              "  <style>\n",
              "    .colab-df-container {\n",
              "      display:flex;\n",
              "      flex-wrap:wrap;\n",
              "      gap: 12px;\n",
              "    }\n",
              "\n",
              "    .colab-df-convert {\n",
              "      background-color: #E8F0FE;\n",
              "      border: none;\n",
              "      border-radius: 50%;\n",
              "      cursor: pointer;\n",
              "      display: none;\n",
              "      fill: #1967D2;\n",
              "      height: 32px;\n",
              "      padding: 0 0 0 0;\n",
              "      width: 32px;\n",
              "    }\n",
              "\n",
              "    .colab-df-convert:hover {\n",
              "      background-color: #E2EBFA;\n",
              "      box-shadow: 0px 1px 2px rgba(60, 64, 67, 0.3), 0px 1px 3px 1px rgba(60, 64, 67, 0.15);\n",
              "      fill: #174EA6;\n",
              "    }\n",
              "\n",
              "    [theme=dark] .colab-df-convert {\n",
              "      background-color: #3B4455;\n",
              "      fill: #D2E3FC;\n",
              "    }\n",
              "\n",
              "    [theme=dark] .colab-df-convert:hover {\n",
              "      background-color: #434B5C;\n",
              "      box-shadow: 0px 1px 3px 1px rgba(0, 0, 0, 0.15);\n",
              "      filter: drop-shadow(0px 1px 2px rgba(0, 0, 0, 0.3));\n",
              "      fill: #FFFFFF;\n",
              "    }\n",
              "  </style>\n",
              "\n",
              "      <script>\n",
              "        const buttonEl =\n",
              "          document.querySelector('#df-d14c4a7f-d7f9-4001-9857-c4423c135daf button.colab-df-convert');\n",
              "        buttonEl.style.display =\n",
              "          google.colab.kernel.accessAllowed ? 'block' : 'none';\n",
              "\n",
              "        async function convertToInteractive(key) {\n",
              "          const element = document.querySelector('#df-d14c4a7f-d7f9-4001-9857-c4423c135daf');\n",
              "          const dataTable =\n",
              "            await google.colab.kernel.invokeFunction('convertToInteractive',\n",
              "                                                     [key], {});\n",
              "          if (!dataTable) return;\n",
              "\n",
              "          const docLinkHtml = 'Like what you see? Visit the ' +\n",
              "            '<a target=\"_blank\" href=https://colab.research.google.com/notebooks/data_table.ipynb>data table notebook</a>'\n",
              "            + ' to learn more about interactive tables.';\n",
              "          element.innerHTML = '';\n",
              "          dataTable['output_type'] = 'display_data';\n",
              "          await google.colab.output.renderOutput(dataTable, element);\n",
              "          const docLink = document.createElement('div');\n",
              "          docLink.innerHTML = docLinkHtml;\n",
              "          element.appendChild(docLink);\n",
              "        }\n",
              "      </script>\n",
              "    </div>\n",
              "  </div>\n",
              "  "
            ]
          },
          "metadata": {},
          "execution_count": 150
        }
      ]
    },
    {
      "cell_type": "markdown",
      "source": [
        "5. Data Cleaning\n",
        "\n",
        "a. Remove all duplicates observations"
      ],
      "metadata": {
        "id": "UNsVYwKa0g2B"
      }
    },
    {
      "cell_type": "code",
      "source": [
        "df.drop_duplicates(inplace=True)"
      ],
      "metadata": {
        "id": "d7X9C-DgyGFv"
      },
      "execution_count": 151,
      "outputs": []
    },
    {
      "cell_type": "markdown",
      "source": [
        "b. Find missing values in all columns"
      ],
      "metadata": {
        "id": "nlAGCvrt1dF3"
      }
    },
    {
      "cell_type": "code",
      "source": [
        "df.isnull().sum()"
      ],
      "metadata": {
        "colab": {
          "base_uri": "https://localhost:8080/"
        },
        "id": "xJJggsrMyF7i",
        "outputId": "4c3b5bc1-553b-4699-fed7-5d900feca312"
      },
      "execution_count": 152,
      "outputs": [
        {
          "output_type": "execute_result",
          "data": {
            "text/plain": [
              "continent                    646\n",
              "location                       0\n",
              "date                           0\n",
              "total_cases                 3636\n",
              "total_deaths               13026\n",
              "gdp_per_capita              7027\n",
              "human_development_index     8147\n",
              "dtype: int64"
            ]
          },
          "metadata": {},
          "execution_count": 152
        }
      ]
    },
    {
      "cell_type": "markdown",
      "source": [
        "c. Remove all observations where continent column value is\n",
        "missing"
      ],
      "metadata": {
        "id": "G8gebzmT1gZQ"
      }
    },
    {
      "cell_type": "code",
      "source": [
        "df = df.dropna(subset=['continent'],axis = 0)\n",
        "df.shape"
      ],
      "metadata": {
        "id": "NzErLkhF1uR-",
        "colab": {
          "base_uri": "https://localhost:8080/"
        },
        "outputId": "fd02a040-a08c-4753-9dda-77ec8362ad21"
      },
      "execution_count": 153,
      "outputs": [
        {
          "output_type": "execute_result",
          "data": {
            "text/plain": [
              "(56748, 7)"
            ]
          },
          "metadata": {},
          "execution_count": 153
        }
      ]
    },
    {
      "cell_type": "markdown",
      "source": [
        "d. Fill all missing values with 0"
      ],
      "metadata": {
        "id": "PHsO20Uq1ju9"
      }
    },
    {
      "cell_type": "code",
      "source": [
        "df = df.fillna(0)"
      ],
      "metadata": {
        "id": "1Ev7amkAyFu_"
      },
      "execution_count": 154,
      "outputs": []
    },
    {
      "cell_type": "markdown",
      "source": [
        "6. Date time format :\n",
        "\n",
        "a. Convert date column in datetime format using\n",
        "pandas.to_datetime"
      ],
      "metadata": {
        "id": "-PPM6D_k1x9s"
      }
    },
    {
      "cell_type": "code",
      "source": [
        "df['date'] = pd.to_datetime(df['date'])"
      ],
      "metadata": {
        "id": "Dhdpzuxo10OJ"
      },
      "execution_count": 155,
      "outputs": []
    },
    {
      "cell_type": "markdown",
      "source": [
        "b. Create new column month after extracting month data from date column."
      ],
      "metadata": {
        "id": "JqNi-cZy12SE"
      }
    },
    {
      "cell_type": "code",
      "source": [
        "df['month']= df['date'].dt.month"
      ],
      "metadata": {
        "id": "zCmq9d0O10eA"
      },
      "execution_count": 156,
      "outputs": []
    },
    {
      "cell_type": "markdown",
      "source": [
        "7. Data Aggregation: \n",
        "\n",
        "a. Find max value in all columns using groupby function on 'continent' column"
      ],
      "metadata": {
        "id": "xF46QEgo17WN"
      }
    },
    {
      "cell_type": "code",
      "source": [
        "df.groupby('continent').max().reset_index()"
      ],
      "metadata": {
        "colab": {
          "base_uri": "https://localhost:8080/",
          "height": 238
        },
        "id": "KTni0pUV10a_",
        "outputId": "85c50685-30ed-4b6c-82d1-43059982216d"
      },
      "execution_count": 157,
      "outputs": [
        {
          "output_type": "execute_result",
          "data": {
            "text/plain": [
              "       continent                      location       date  total_cases  \\\n",
              "0         Africa                      Zimbabwe 2020-12-11     752269.0   \n",
              "1           Asia                         Yemen 2020-12-11    8874290.0   \n",
              "2         Europe                       Vatican 2020-12-11    1991233.0   \n",
              "3  North America  United States Virgin Islands 2020-12-11   11205486.0   \n",
              "4        Oceania             Wallis and Futuna 2020-12-11      27750.0   \n",
              "5  South America                     Venezuela 2020-12-11    5876464.0   \n",
              "\n",
              "   total_deaths  gdp_per_capita  human_development_index  month  \n",
              "0       20314.0       26382.287                    0.797     12  \n",
              "1      130519.0      116935.600                    0.933     12  \n",
              "2       52147.0       94277.965                    0.953     12  \n",
              "3      247220.0       54225.446                    0.926     12  \n",
              "4         907.0       44648.710                    0.939     12  \n",
              "5      166014.0       22767.037                    0.843     12  "
            ],
            "text/html": [
              "\n",
              "  <div id=\"df-01af6dba-e3b6-4388-b087-f0fb32a2a33f\">\n",
              "    <div class=\"colab-df-container\">\n",
              "      <div>\n",
              "<style scoped>\n",
              "    .dataframe tbody tr th:only-of-type {\n",
              "        vertical-align: middle;\n",
              "    }\n",
              "\n",
              "    .dataframe tbody tr th {\n",
              "        vertical-align: top;\n",
              "    }\n",
              "\n",
              "    .dataframe thead th {\n",
              "        text-align: right;\n",
              "    }\n",
              "</style>\n",
              "<table border=\"1\" class=\"dataframe\">\n",
              "  <thead>\n",
              "    <tr style=\"text-align: right;\">\n",
              "      <th></th>\n",
              "      <th>continent</th>\n",
              "      <th>location</th>\n",
              "      <th>date</th>\n",
              "      <th>total_cases</th>\n",
              "      <th>total_deaths</th>\n",
              "      <th>gdp_per_capita</th>\n",
              "      <th>human_development_index</th>\n",
              "      <th>month</th>\n",
              "    </tr>\n",
              "  </thead>\n",
              "  <tbody>\n",
              "    <tr>\n",
              "      <th>0</th>\n",
              "      <td>Africa</td>\n",
              "      <td>Zimbabwe</td>\n",
              "      <td>2020-12-11</td>\n",
              "      <td>752269.0</td>\n",
              "      <td>20314.0</td>\n",
              "      <td>26382.287</td>\n",
              "      <td>0.797</td>\n",
              "      <td>12</td>\n",
              "    </tr>\n",
              "    <tr>\n",
              "      <th>1</th>\n",
              "      <td>Asia</td>\n",
              "      <td>Yemen</td>\n",
              "      <td>2020-12-11</td>\n",
              "      <td>8874290.0</td>\n",
              "      <td>130519.0</td>\n",
              "      <td>116935.600</td>\n",
              "      <td>0.933</td>\n",
              "      <td>12</td>\n",
              "    </tr>\n",
              "    <tr>\n",
              "      <th>2</th>\n",
              "      <td>Europe</td>\n",
              "      <td>Vatican</td>\n",
              "      <td>2020-12-11</td>\n",
              "      <td>1991233.0</td>\n",
              "      <td>52147.0</td>\n",
              "      <td>94277.965</td>\n",
              "      <td>0.953</td>\n",
              "      <td>12</td>\n",
              "    </tr>\n",
              "    <tr>\n",
              "      <th>3</th>\n",
              "      <td>North America</td>\n",
              "      <td>United States Virgin Islands</td>\n",
              "      <td>2020-12-11</td>\n",
              "      <td>11205486.0</td>\n",
              "      <td>247220.0</td>\n",
              "      <td>54225.446</td>\n",
              "      <td>0.926</td>\n",
              "      <td>12</td>\n",
              "    </tr>\n",
              "    <tr>\n",
              "      <th>4</th>\n",
              "      <td>Oceania</td>\n",
              "      <td>Wallis and Futuna</td>\n",
              "      <td>2020-12-11</td>\n",
              "      <td>27750.0</td>\n",
              "      <td>907.0</td>\n",
              "      <td>44648.710</td>\n",
              "      <td>0.939</td>\n",
              "      <td>12</td>\n",
              "    </tr>\n",
              "    <tr>\n",
              "      <th>5</th>\n",
              "      <td>South America</td>\n",
              "      <td>Venezuela</td>\n",
              "      <td>2020-12-11</td>\n",
              "      <td>5876464.0</td>\n",
              "      <td>166014.0</td>\n",
              "      <td>22767.037</td>\n",
              "      <td>0.843</td>\n",
              "      <td>12</td>\n",
              "    </tr>\n",
              "  </tbody>\n",
              "</table>\n",
              "</div>\n",
              "      <button class=\"colab-df-convert\" onclick=\"convertToInteractive('df-01af6dba-e3b6-4388-b087-f0fb32a2a33f')\"\n",
              "              title=\"Convert this dataframe to an interactive table.\"\n",
              "              style=\"display:none;\">\n",
              "        \n",
              "  <svg xmlns=\"http://www.w3.org/2000/svg\" height=\"24px\"viewBox=\"0 0 24 24\"\n",
              "       width=\"24px\">\n",
              "    <path d=\"M0 0h24v24H0V0z\" fill=\"none\"/>\n",
              "    <path d=\"M18.56 5.44l.94 2.06.94-2.06 2.06-.94-2.06-.94-.94-2.06-.94 2.06-2.06.94zm-11 1L8.5 8.5l.94-2.06 2.06-.94-2.06-.94L8.5 2.5l-.94 2.06-2.06.94zm10 10l.94 2.06.94-2.06 2.06-.94-2.06-.94-.94-2.06-.94 2.06-2.06.94z\"/><path d=\"M17.41 7.96l-1.37-1.37c-.4-.4-.92-.59-1.43-.59-.52 0-1.04.2-1.43.59L10.3 9.45l-7.72 7.72c-.78.78-.78 2.05 0 2.83L4 21.41c.39.39.9.59 1.41.59.51 0 1.02-.2 1.41-.59l7.78-7.78 2.81-2.81c.8-.78.8-2.07 0-2.86zM5.41 20L4 18.59l7.72-7.72 1.47 1.35L5.41 20z\"/>\n",
              "  </svg>\n",
              "      </button>\n",
              "      \n",
              "  <style>\n",
              "    .colab-df-container {\n",
              "      display:flex;\n",
              "      flex-wrap:wrap;\n",
              "      gap: 12px;\n",
              "    }\n",
              "\n",
              "    .colab-df-convert {\n",
              "      background-color: #E8F0FE;\n",
              "      border: none;\n",
              "      border-radius: 50%;\n",
              "      cursor: pointer;\n",
              "      display: none;\n",
              "      fill: #1967D2;\n",
              "      height: 32px;\n",
              "      padding: 0 0 0 0;\n",
              "      width: 32px;\n",
              "    }\n",
              "\n",
              "    .colab-df-convert:hover {\n",
              "      background-color: #E2EBFA;\n",
              "      box-shadow: 0px 1px 2px rgba(60, 64, 67, 0.3), 0px 1px 3px 1px rgba(60, 64, 67, 0.15);\n",
              "      fill: #174EA6;\n",
              "    }\n",
              "\n",
              "    [theme=dark] .colab-df-convert {\n",
              "      background-color: #3B4455;\n",
              "      fill: #D2E3FC;\n",
              "    }\n",
              "\n",
              "    [theme=dark] .colab-df-convert:hover {\n",
              "      background-color: #434B5C;\n",
              "      box-shadow: 0px 1px 3px 1px rgba(0, 0, 0, 0.15);\n",
              "      filter: drop-shadow(0px 1px 2px rgba(0, 0, 0, 0.3));\n",
              "      fill: #FFFFFF;\n",
              "    }\n",
              "  </style>\n",
              "\n",
              "      <script>\n",
              "        const buttonEl =\n",
              "          document.querySelector('#df-01af6dba-e3b6-4388-b087-f0fb32a2a33f button.colab-df-convert');\n",
              "        buttonEl.style.display =\n",
              "          google.colab.kernel.accessAllowed ? 'block' : 'none';\n",
              "\n",
              "        async function convertToInteractive(key) {\n",
              "          const element = document.querySelector('#df-01af6dba-e3b6-4388-b087-f0fb32a2a33f');\n",
              "          const dataTable =\n",
              "            await google.colab.kernel.invokeFunction('convertToInteractive',\n",
              "                                                     [key], {});\n",
              "          if (!dataTable) return;\n",
              "\n",
              "          const docLinkHtml = 'Like what you see? Visit the ' +\n",
              "            '<a target=\"_blank\" href=https://colab.research.google.com/notebooks/data_table.ipynb>data table notebook</a>'\n",
              "            + ' to learn more about interactive tables.';\n",
              "          element.innerHTML = '';\n",
              "          dataTable['output_type'] = 'display_data';\n",
              "          await google.colab.output.renderOutput(dataTable, element);\n",
              "          const docLink = document.createElement('div');\n",
              "          docLink.innerHTML = docLinkHtml;\n",
              "          element.appendChild(docLink);\n",
              "        }\n",
              "      </script>\n",
              "    </div>\n",
              "  </div>\n",
              "  "
            ]
          },
          "metadata": {},
          "execution_count": 157
        }
      ]
    },
    {
      "cell_type": "markdown",
      "source": [
        "b. Store the result in a new dataframe named 'df_groupby'. (Use df_groupby dataframe for all further analysis)"
      ],
      "metadata": {
        "id": "8lsMeG4D19A_"
      }
    },
    {
      "cell_type": "code",
      "source": [
        "df_groupby = df.groupby('continent').max().reset_index()"
      ],
      "metadata": {
        "id": "4Mybz-92BpNI"
      },
      "execution_count": 158,
      "outputs": []
    },
    {
      "cell_type": "markdown",
      "source": [
        "8. Feature Engineering : a. Create a new feature 'total_deaths_to_total_cases' by ratio of 'total_deaths' column to 'total_cases'"
      ],
      "metadata": {
        "id": "d0JlJH4l2Cuz"
      }
    },
    {
      "cell_type": "code",
      "source": [
        "df_groupby[\"total_deaths_to_total_cases\"] = df_groupby[\"total_deaths\"]/df_groupby[\"total_cases\"]"
      ],
      "metadata": {
        "id": "gB26StDj10Th"
      },
      "execution_count": 159,
      "outputs": []
    },
    {
      "cell_type": "markdown",
      "source": [
        "9. Data Visualization : \n",
        "\n",
        "a. Perform Univariate analysis on 'gdp_per_capita' column by plotting histogram using seaborn dist plot. "
      ],
      "metadata": {
        "id": "BibbQwDi2Fld"
      }
    },
    {
      "cell_type": "code",
      "source": [
        "sns.distplot(df['gdp_per_capita'],bins=6,rug=True)"
      ],
      "metadata": {
        "id": "EGTIYhc-2MPb",
        "colab": {
          "base_uri": "https://localhost:8080/",
          "height": 398
        },
        "outputId": "d6908cc8-acc5-4fe0-afc3-a24b5b087a56"
      },
      "execution_count": 160,
      "outputs": [
        {
          "output_type": "stream",
          "name": "stderr",
          "text": [
            "/usr/local/lib/python3.7/dist-packages/seaborn/distributions.py:2619: FutureWarning: `distplot` is a deprecated function and will be removed in a future version. Please adapt your code to use either `displot` (a figure-level function with similar flexibility) or `histplot` (an axes-level function for histograms).\n",
            "  warnings.warn(msg, FutureWarning)\n",
            "/usr/local/lib/python3.7/dist-packages/seaborn/distributions.py:2103: FutureWarning: The `axis` variable is no longer used and will be removed. Instead, assign variables directly to `x` or `y`.\n",
            "  warnings.warn(msg, FutureWarning)\n"
          ]
        },
        {
          "output_type": "execute_result",
          "data": {
            "text/plain": [
              "<matplotlib.axes._subplots.AxesSubplot at 0x7ff970dd6710>"
            ]
          },
          "metadata": {},
          "execution_count": 160
        },
        {
          "output_type": "display_data",
          "data": {
            "text/plain": [
              "<Figure size 432x288 with 1 Axes>"
            ],
            "image/png": "[encoded data removed]"
          },
          "metadata": {
            "needs_background": "light"
          }
        }
      ]
    },
    {
      "cell_type": "markdown",
      "source": [
        "b. Plot a scatter plot of 'total_cases' & 'gdp_per_capita' "
      ],
      "metadata": {
        "id": "9GLbqwGmReo0"
      }
    },
    {
      "cell_type": "code",
      "source": [
        "sns.scatterplot(y = 'total_cases',x = 'gdp_per_capita', data = df_groupby)"
      ],
      "metadata": {
        "colab": {
          "base_uri": "https://localhost:8080/",
          "height": 308
        },
        "id": "6d5qalM_RhZK",
        "outputId": "8f37f597-dabc-476d-bec2-5b9b0303cdc1"
      },
      "execution_count": 161,
      "outputs": [
        {
          "output_type": "execute_result",
          "data": {
            "text/plain": [
              "<matplotlib.axes._subplots.AxesSubplot at 0x7ff96ef1a850>"
            ]
          },
          "metadata": {},
          "execution_count": 161
        },
        {
          "output_type": "display_data",
          "data": {
            "text/plain": [
              "<Figure size 432x288 with 1 Axes>"
            ],
            "image/png": "[encoded data removed]"
          },
          "metadata": {
            "needs_background": "light"
          }
        }
      ]
    },
    {
      "cell_type": "markdown",
      "source": [
        "c. Plot Pairplot on df_groupby dataset. "
      ],
      "metadata": {
        "id": "0colGlfGRh7E"
      }
    },
    {
      "cell_type": "code",
      "source": [
        "sns.pairplot(df_groupby)"
      ],
      "metadata": {
        "colab": {
          "base_uri": "https://localhost:8080/",
          "height": 1000
        },
        "id": "5HaoDV1cRj2h",
        "outputId": "6f9f65bc-710d-4320-929a-f4516658eaa5"
      },
      "execution_count": 162,
      "outputs": [
        {
          "output_type": "execute_result",
          "data": {
            "text/plain": [
              "<seaborn.axisgrid.PairGrid at 0x7ff970e87390>"
            ]
          },
          "metadata": {},
          "execution_count": 162
        },
        {
          "output_type": "display_data",
          "data": {
            "text/plain": [
              "<Figure size 1080x1080 with 42 Axes>"
            ],
            "image/png": "[encoded data removed]"
          },
          "metadata": {
            "needs_background": "light"
          }
        }
      ]
    },
    {
      "cell_type": "markdown",
      "source": [
        "d. Plot a bar plot of 'continent' column with 'total_cases' . Tip : using kind='bar' in seaborn catplot"
      ],
      "metadata": {
        "id": "vKb9YnqqRkKs"
      }
    },
    {
      "cell_type": "code",
      "source": [
        "sns.catplot(x = 'continent', y = 'total_cases',data= df_groupby, kind='bar')"
      ],
      "metadata": {
        "colab": {
          "base_uri": "https://localhost:8080/",
          "height": 386
        },
        "id": "1NshkohVRmlA",
        "outputId": "7f8cd24e-7e5f-4797-c3b7-a91750dce017"
      },
      "execution_count": 163,
      "outputs": [
        {
          "output_type": "execute_result",
          "data": {
            "text/plain": [
              "<seaborn.axisgrid.FacetGrid at 0x7ff96e12c510>"
            ]
          },
          "metadata": {},
          "execution_count": 163
        },
        {
          "output_type": "display_data",
          "data": {
            "text/plain": [
              "<Figure size 360x360 with 1 Axes>"
            ],
            "image/png": "[encoded data removed]"
          },
          "metadata": {
            "needs_background": "light"
          }
        }
      ]
    },
    {
      "cell_type": "markdown",
      "source": [
        "10. Save the df_groupby dataframe in your local drive using pandas.to_csv function ."
      ],
      "metadata": {
        "id": "CITeSIDW2FaN"
      }
    },
    {
      "cell_type": "code",
      "source": [
        "df_groupby.to_csv(\"Data_groupby\")"
      ],
      "metadata": {
        "id": "WoKDGnNO2Loi"
      },
      "execution_count": 164,
      "outputs": []
    }
  ]
}